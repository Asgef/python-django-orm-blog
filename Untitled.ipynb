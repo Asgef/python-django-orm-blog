{
 "cells": [
  {
   "cell_type": "code",
   "execution_count": null,
   "id": "2ef29c21-0097-448a-be05-e9a648d0aeec",
   "metadata": {},
   "outputs": [],
   "source": []
  }
 ],
 "metadata": {
  "kernelspec": {
   "display_name": "Python (django_orm)",
   "language": "python",
   "name": "django_orm"
  },
  "language_info": {
   "name": ""
  }
 },
 "nbformat": 4,
 "nbformat_minor": 5
}
